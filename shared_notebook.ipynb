{
 "cells": [
  {
   "cell_type": "code",
   "execution_count": 2,
   "id": "9ed8a86b-33c8-400d-8ac9-7229d26d515f",
   "metadata": {},
   "outputs": [],
   "source": [
    "# Dependencies and libraries #\n",
    "\n",
    "import os\n",
    "import requests\n",
    "import json\n",
    "import pandas as pd\n",
    "from datetime import date, timedelta\n",
    "import datetime\n",
    "import hvplot\n",
    "import alpaca_trade_api as tradeapi\n",
    "\n",
    "%matplotlib inline"
   ]
  },
  {
   "cell_type": "code",
   "execution_count": 3,
   "id": "fefe4974-4e41-4454-9d79-5396fdabaee9",
   "metadata": {},
   "outputs": [
    {
     "data": {
      "text/plain": [
       "str"
      ]
     },
     "metadata": {},
     "output_type": "display_data"
    },
    {
     "data": {
      "text/plain": [
       "str"
      ]
     },
     "metadata": {},
     "output_type": "display_data"
    }
   ],
   "source": [
    "# Set Alpaca API key and secret by calling the os.getenv function and referencing the environment variable names\n",
    "# Set each environment variable to a notebook variable of the same name\n",
    "alpaca_api_key = \"PKT126TVACUEXXFT8Z85\"\n",
    "alpaca_secret_key = \"WwlEmn0WUNYY0iJL7ltRQypkzqNfojvcnFtScBIy\"\n",
    "\n",
    "# Check the values were imported correctly by evaluating the type of each\n",
    "display(type(alpaca_api_key))\n",
    "display(type(alpaca_secret_key))"
   ]
  },
  {
   "cell_type": "code",
   "execution_count": 4,
   "id": "1d19dcea-1c38-480b-9292-fbef36cfcc3a",
   "metadata": {},
   "outputs": [],
   "source": [
    "# Create your Alpaca API REST object by calling Alpaca's tradeapi.REST` function\n",
    "# Set the parameters to your alpaca_api_key, alpaca_secret_key and api_version=\"v2\" \n",
    "alpaca = tradeapi.REST(\n",
    "    alpaca_api_key,\n",
    "    alpaca_secret_key,\n",
    "    api_version=\"v2\")\n"
   ]
  },
  {
   "cell_type": "code",
   "execution_count": 5,
   "id": "260c5b6b-7d05-4481-903b-96e363c7c697",
   "metadata": {},
   "outputs": [],
   "source": [
    "ticker = \"TSLA\""
   ]
  },
  {
   "cell_type": "code",
   "execution_count": 9,
   "id": "d40b6311-b8b6-4799-aa27-b9861b7dca1d",
   "metadata": {},
   "outputs": [],
   "source": [
    "# Dates\n",
    "start_date = pd.Timestamp(\"2022-10-01\", tz=\"America/New_York\").isoformat()\n",
    "end_date = pd.Timestamp(\"2022-10-10\", tz=\"America/New_York\").isoformat()"
   ]
  },
  {
   "cell_type": "code",
   "execution_count": 8,
   "id": "29f23e52-390c-4935-8bc6-1d5c22606c1e",
   "metadata": {},
   "outputs": [],
   "source": [
    "# Timeframe \n",
    "timeframe = \"1Day\""
   ]
  },
  {
   "cell_type": "code",
   "execution_count": 11,
   "id": "6c96fceb-0ba6-4866-aa4e-da0fcc249797",
   "metadata": {},
   "outputs": [
    {
     "data": {
      "text/html": [
       "<div>\n",
       "<style scoped>\n",
       "    .dataframe tbody tr th:only-of-type {\n",
       "        vertical-align: middle;\n",
       "    }\n",
       "\n",
       "    .dataframe tbody tr th {\n",
       "        vertical-align: top;\n",
       "    }\n",
       "\n",
       "    .dataframe thead th {\n",
       "        text-align: right;\n",
       "    }\n",
       "</style>\n",
       "<table border=\"1\" class=\"dataframe\">\n",
       "  <thead>\n",
       "    <tr style=\"text-align: right;\">\n",
       "      <th></th>\n",
       "      <th>open</th>\n",
       "      <th>high</th>\n",
       "      <th>low</th>\n",
       "      <th>close</th>\n",
       "      <th>volume</th>\n",
       "      <th>trade_count</th>\n",
       "      <th>vwap</th>\n",
       "    </tr>\n",
       "    <tr>\n",
       "      <th>timestamp</th>\n",
       "      <th></th>\n",
       "      <th></th>\n",
       "      <th></th>\n",
       "      <th></th>\n",
       "      <th></th>\n",
       "      <th></th>\n",
       "      <th></th>\n",
       "    </tr>\n",
       "  </thead>\n",
       "  <tbody>\n",
       "    <tr>\n",
       "      <th>2022-10-03 04:00:00+00:00</th>\n",
       "      <td>254.40</td>\n",
       "      <td>255.1600</td>\n",
       "      <td>241.01</td>\n",
       "      <td>242.40</td>\n",
       "      <td>98363642</td>\n",
       "      <td>1539826</td>\n",
       "      <td>245.357718</td>\n",
       "    </tr>\n",
       "    <tr>\n",
       "      <th>2022-10-04 04:00:00+00:00</th>\n",
       "      <td>250.50</td>\n",
       "      <td>257.5000</td>\n",
       "      <td>242.01</td>\n",
       "      <td>249.44</td>\n",
       "      <td>110028529</td>\n",
       "      <td>1313286</td>\n",
       "      <td>249.704849</td>\n",
       "    </tr>\n",
       "    <tr>\n",
       "      <th>2022-10-05 04:00:00+00:00</th>\n",
       "      <td>245.00</td>\n",
       "      <td>246.6697</td>\n",
       "      <td>233.27</td>\n",
       "      <td>240.81</td>\n",
       "      <td>87581871</td>\n",
       "      <td>1172525</td>\n",
       "      <td>238.492134</td>\n",
       "    </tr>\n",
       "    <tr>\n",
       "      <th>2022-10-06 04:00:00+00:00</th>\n",
       "      <td>239.52</td>\n",
       "      <td>244.5800</td>\n",
       "      <td>235.35</td>\n",
       "      <td>238.13</td>\n",
       "      <td>69296298</td>\n",
       "      <td>827199</td>\n",
       "      <td>239.355660</td>\n",
       "    </tr>\n",
       "    <tr>\n",
       "      <th>2022-10-07 04:00:00+00:00</th>\n",
       "      <td>234.00</td>\n",
       "      <td>234.5715</td>\n",
       "      <td>222.02</td>\n",
       "      <td>223.07</td>\n",
       "      <td>83954799</td>\n",
       "      <td>1245277</td>\n",
       "      <td>226.463569</td>\n",
       "    </tr>\n",
       "  </tbody>\n",
       "</table>\n",
       "</div>"
      ],
      "text/plain": [
       "                             open      high     low   close     volume  \\\n",
       "timestamp                                                                \n",
       "2022-10-03 04:00:00+00:00  254.40  255.1600  241.01  242.40   98363642   \n",
       "2022-10-04 04:00:00+00:00  250.50  257.5000  242.01  249.44  110028529   \n",
       "2022-10-05 04:00:00+00:00  245.00  246.6697  233.27  240.81   87581871   \n",
       "2022-10-06 04:00:00+00:00  239.52  244.5800  235.35  238.13   69296298   \n",
       "2022-10-07 04:00:00+00:00  234.00  234.5715  222.02  223.07   83954799   \n",
       "\n",
       "                           trade_count        vwap  \n",
       "timestamp                                           \n",
       "2022-10-03 04:00:00+00:00      1539826  245.357718  \n",
       "2022-10-04 04:00:00+00:00      1313286  249.704849  \n",
       "2022-10-05 04:00:00+00:00      1172525  238.492134  \n",
       "2022-10-06 04:00:00+00:00       827199  239.355660  \n",
       "2022-10-07 04:00:00+00:00      1245277  226.463569  "
      ]
     },
     "execution_count": 11,
     "metadata": {},
     "output_type": "execute_result"
    }
   ],
   "source": [
    "# Price information #\n",
    "portfolio_prices_df = alpaca.get_bars(\n",
    "    ticker,\n",
    "    timeframe,\n",
    "    start = start_date,\n",
    "    end = end_date\n",
    ").df\n",
    "\n",
    "# Preview the resulting `portfolio_prices_df` DataFrame. \n",
    "portfolio_prices_df.head()"
   ]
  }
 ],
 "metadata": {
  "kernelspec": {
   "display_name": "Python 3 (ipykernel)",
   "language": "python",
   "name": "python3"
  },
  "language_info": {
   "codemirror_mode": {
    "name": "ipython",
    "version": 3
   },
   "file_extension": ".py",
   "mimetype": "text/x-python",
   "name": "python",
   "nbconvert_exporter": "python",
   "pygments_lexer": "ipython3",
   "version": "3.7.13"
  }
 },
 "nbformat": 4,
 "nbformat_minor": 5
}
